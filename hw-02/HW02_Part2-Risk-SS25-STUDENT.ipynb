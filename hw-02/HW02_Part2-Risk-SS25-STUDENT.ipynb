{
 "cells": [
  {
   "cell_type": "markdown",
   "metadata": {},
   "source": [
    "# Homework Assignment 2 \n",
    "\n",
    "## Risk Graph\n",
    "\n",
    "### (Notebook 2 of 2)\n",
    "\n"
   ]
  },
  {
   "cell_type": "markdown",
   "metadata": {},
   "source": [
    "### <p style=\"text-align: right;\"> Rebecca Kingham</p>\n",
    "### <p style=\"text-align: right;\"> KinghamRMSU</p>"
   ]
  },
  {
   "cell_type": "markdown",
   "metadata": {},
   "source": [
    "## Assignment Overview\n",
    "\n",
    "In this assignment, we'll explore graphs using the board game Risk as our practical example. Risk is a strategy game played on a world map where territories are connected to their neighbors. This makes it a perfect candidate for graph representation and analysis.\n",
    "\n",
    "### Learning Objectives\n",
    "\n",
    "- Implement a graph representation of a real-world game board\n",
    "- practice using networkx\n",
    "- do some research\n",
    "- visualize graph data using NetworkX\n",
    "\n",
    "The assignment is split into two notebooks:\n",
    "- Notebook 1 of 2 is worth **14 + 33 + 3 = 51 points** \n",
    "- Notebook 2 of 2 is worth **1+ 42 + 1 = 44 points** \n",
    "for a total of **95 points**. Point values for each part are included in the section headers and question prompts.\n",
    "\n",
    "**This assignment is due at 11:59 pm on Friday, March 21st.** It should be uploaded into the \"Homework Assignments\" submission folder for Homework #2 on D2L.  Submission instructions can be found at the end of the notebook. **You must also fill out a survey regarding this assignment.** The link to this survey can also be found at the end of the notebook.\n",
    "\n",
    "---\n",
    "## &#128721; STOP\n",
    "**Pause to add this file and commit your changes to your Git repository! (1 points)**\n",
    "\n",
    "---"
   ]
  },
  {
   "cell_type": "code",
   "execution_count": 1,
   "metadata": {},
   "outputs": [],
   "source": [
    "import networkx as nx\n",
    "import matplotlib.pyplot as plt\n",
    "import matplotlib as mpl\n",
    "import seaborn as sns\n",
    "import pandas as pd\n",
    "import numpy as np"
   ]
  },
  {
   "cell_type": "markdown",
   "metadata": {},
   "source": [
    "---\n",
    "<a id=\"part3\"></a>\n",
    "[Back to ToC](#toc)\n",
    "\n",
    "## Part 3: Creating the Risk Game Graph (42 points)\n",
    "\n",
    "\n",
    "![image](https://cf.geekdo-images.com/JM6hEipDwIByZKEIK9Dgeg__imagepage/img/OEl2gaJbUxdvIv6tNPzDsQyLUtQ=/fit-in/900x600/filters:no_upscale():strip_icc()/pic365731.jpg)\n",
    "\n",
    "\n",
    "&#9989; **Question 3.1 (5 points)**: Create a dictionary that defines the territories in Risk, organized by continents. Each territory should include its neighboring territories. Use the image above for completing the code below"
   ]
  },
  {
   "cell_type": "code",
   "execution_count": 2,
   "metadata": {},
   "outputs": [],
   "source": [
    "# Define the Risk board territories and their connections\n",
    "risk_territories = {\n",
    "    'North America': {\n",
    "        'Alaska': ['Northwest Territory', 'Alberta', 'Kamchatka'],\n",
    "        'Northwest Territory': ['Alaska', 'Alberta', 'Greenland'],\n",
    "        'Greenland': ['Northwest Territory', 'Ontario', 'Quebec', 'Iceland'],\n",
    "        'Alberta': ['Alaska', 'Northwest Territory', 'Ontario', 'Western United States'],\n",
    "        'Ontario': ['Alberta', 'Northwest Territory', 'Greenland', 'Quebec', 'Western United States', 'Eastern United States'],\n",
    "        'Quebec': ['Ontario', 'Greenland', 'Eastern United States'],\n",
    "        'Western United States': ['Alberta', 'Ontario', 'Eastern United States', 'Central America'],\n",
    "        'Eastern United States': ['Western United States', 'Ontario', 'Quebec', 'Central America'],\n",
    "        'Central America': ['Western United States', 'Eastern United States', 'Venezuela']\n",
    "    },\n",
    "    # Complete the remaining continents\n",
    "    'South America': {\n",
    "        'Venezuela' : ['Central America', 'Brazil', 'Peru'],\n",
    "        'Brazil': ['Venezuela', 'Peru', 'Argentina', 'North Africa'],\n",
    "        'Peru': ['Venezuela', 'Brazil', 'Argentina'],\n",
    "        'Argentina': ['Brazil', 'Peru']\n",
    "    },\n",
    "    'Europe': {\n",
    "        'Great Britain': ['Iceland', 'Scandinavia', 'Northern Europe', 'Western Europe'],\n",
    "        'Iceland': ['Greenland', 'Great Britain', 'Scandinavia'],\n",
    "        'Scandinavia': ['Iceland', 'Great Britain', 'Northern Europe', 'Ukraine'],\n",
    "        'Northern Europe': ['Great Britain', 'Scandinavia', 'Ukraine', 'Southern Europe', 'Western Europe'],\n",
    "        'Southern Europe': ['Northern Europe', 'Ukraine', 'Middle East', 'North Africa', 'Western Europe', 'Egypt'],\n",
    "        'Western Europe': ['Great Britain', 'Northern Europe', 'Southern Europe', 'North Africa'],\n",
    "        'Ukraine': ['Scandinavia', 'Northern Europe', 'Southern Europe', 'Middle East', 'Ural', 'Afghanistan']\n",
    "    },\n",
    "    'Africa': {\n",
    "        'North Africa': ['Western Europe', 'Southern Europe', 'Egypt', 'East Africa', 'Congo', 'Brazil'],\n",
    "        'Egypt': ['North Africa', 'Middle East', 'East Africa', 'Southern Europe'],\n",
    "        'East Africa': ['Egypt', 'North Africa', 'Congo', 'South Africa', 'Middle East', 'Madagascar'],\n",
    "        'Congo': ['North Africa', 'East Africa', 'South Africa'],\n",
    "        'South Africa': ['Congo', 'East Africa', 'Madagascar'],\n",
    "        'Madagascar': ['South Africa', 'East Africa']\n",
    "    },\n",
    "    'Asia': {\n",
    "        'Ural': ['Ukraine', 'Siberia', 'China', 'Afghanistan'],\n",
    "        'Siberia': ['Ural', 'Yakutsk', 'Irkutsk', 'Mongolia', 'China'],\n",
    "        'Yakutsk': ['Siberia', 'Irkutsk', 'Kamchatka'],\n",
    "        'Irkutsk': ['Siberia', 'Yakutsk', 'Mongolia', 'Kamchatka'],\n",
    "        'Mongolia': ['Siberia', 'Irkutsk', 'China', 'Japan', 'Kamchatka'],\n",
    "        'China': ['Ural', 'Siberia', 'Mongolia', 'Siam', 'Afghanistan', 'India'],\n",
    "        'Japan': ['Mongolia', 'Kamchatka'],\n",
    "        'Kamchatka': ['Alaska', 'Yakutsk', 'Irkutsk', 'Japan', 'Mongolia'],\n",
    "        'Middle East': ['Southern Europe', 'Ukraine', 'Afghanistan', 'India', 'Egypt', 'East Africa'],\n",
    "        'Afghanistan': ['Ural', 'China', 'India', 'Middle East', 'Ukraine'],\n",
    "        'India': ['Afghanistan', 'China', 'Siam', 'Middle East'],\n",
    "        'Siam': ['India', 'China', 'Indonesia']\n",
    "    },\n",
    "    'Australia': {\n",
    "        'Indonesia': ['Siam', 'New Guinea', 'Western Australia'],\n",
    "        'New Guinea': ['Indonesia', 'Western Australia', 'Eastern Australia'],\n",
    "        'Western Australia': ['Indonesia', 'New Guinea', 'Eastern Australia'],\n",
    "        'Eastern Australia': ['Western Australia', 'New Guinea']\n",
    "    }\n",
    "}\n"
   ]
  },
  {
   "cell_type": "markdown",
   "metadata": {},
   "source": [
    "### Graph Creation\n",
    "\n",
    "&#9989; **Question 3.2 (7 points)**: Create a NetworkX graph object from the territory definitions. The territories are the nodes of the graph. Implement a function that builds the graph and adds appropriate attributes for continents. _Hint:_ Look up the documentation of `add_node`, what are the possible inputs? Don't forget to connect each territory to its neighbors. Make sure to add plenty of comments in your code."
   ]
  },
  {
   "cell_type": "code",
   "execution_count": 3,
   "metadata": {},
   "outputs": [],
   "source": [
    "def create_risk_graph(territories):\n",
    "    \"\"\"\n",
    "    Create a NetworkX graph from the Risk territory definitions.\n",
    "    \n",
    "    Parameters:\n",
    "        territories (dict): Dictionary containing territory and connection information\n",
    "        \n",
    "    Returns:\n",
    "        G (nx.Graph): NetworkX graph representing the Risk board\n",
    "    \"\"\"\n",
    "    # Your code here\n",
    "    G = nx.Graph()\n",
    "\n",
    "    # iterate through each continent and it's territories\n",
    "    for continent, territory_data in territories.items():\n",
    "        # iterate through territories and neighbors in current continent\n",
    "        for territory, neighbors in territory_data.items():\n",
    "            # add the territory as a node to the graph, including continent as an attribute\n",
    "            G.add_node(territory, continent=continent)\n",
    "            # iterate through neighbors of current territory\n",
    "            for neighbor in neighbors:\n",
    "                # add edge between current territory and it's neighbor\n",
    "                G.add_edge(territory, neighbor)\n",
    "\n",
    "    return G\n",
    "\n",
    "# Create the graph\n",
    "G = create_risk_graph(risk_territories)\n"
   ]
  },
  {
   "cell_type": "markdown",
   "metadata": {},
   "source": [
    "### Graph Visualization\n",
    "\n",
    "&#9989; **Question 3.3 (4 points)**: Create a visualization of the Risk board graph. You can use AI to help you with this. The function below should:\n",
    "\n",
    "- make a plot of the risk graph.\n",
    "- color nodes by continent\n",
    "- allow the user to choose a type of layout. _Hint:_ search networkx documentation for the possible layout. Min 5 layouts should be available.\n",
    "- print the name of each territory on the respective node\n",
    "- make a legend for the graph \n",
    "- have very descriptive comments \n",
    "- increase the size of each node from the default value  \n",
    "- increase the font size of label from the default value"
   ]
  },
  {
   "cell_type": "code",
   "execution_count": 6,
   "metadata": {},
   "outputs": [
    {
     "name": "stdout",
     "output_type": "stream",
     "text": [
      "Available graph layouts:\n",
      "1. Circular\n",
      "2. Random\n",
      "3. Spring\n",
      "4. Shell\n",
      "5. Planar\n",
      "6. Spectral\n"
     ]
    },
    {
     "name": "stdin",
     "output_type": "stream",
     "text": [
      "Enter the number of the layout you want to use:  3\n"
     ]
    },
    {
     "data": {
      "image/png": "[encoded data removed]",
      "text/plain": [
       "<Figure size 640x480 with 1 Axes>"
      ]
     },
     "metadata": {},
     "output_type": "display_data"
    }
   ],
   "source": [
    "def visualize_risk_graph(G):\n",
    "    \"\"\"\n",
    "    Create a visualization of the Risk board graph with continents colored differently.\n",
    "    \n",
    "    Parameters:\n",
    "        G (nx.Graph): NetworkX graph of the Risk board\n",
    "    \"\"\"\n",
    "    # Your code here\n",
    "    # Get the unique continents from the graph node attributes\n",
    "    continents = set(nx.get_node_attributes(G, 'continent').values())\n",
    "    # Define a color map for the continents\n",
    "    # You can choose your own colors\n",
    "    continent_colors = {\n",
    "        'North America': 'skyblue',\n",
    "        'South America': 'lightcoral',\n",
    "        'Europe': 'lightgreen',\n",
    "        'Africa': 'gold',\n",
    "        'Asia': 'lightsalmon',\n",
    "        'Australia': 'lightcyan'\n",
    "    }\n",
    "\n",
    "    # Get the color for each node based on its continent\n",
    "    node_colors = [continent_colors[G.nodes[node]['continent']] for node in G.nodes()]\n",
    "\n",
    "    # Get the labels for each node (the territory names)\n",
    "    node_labels = {node: node for node in G.nodes()}\n",
    "\n",
    "    # Define the available layout options\n",
    "    layout_options = {\n",
    "        \"Circular\": nx.circular_layout,\n",
    "        \"Random\": nx.random_layout,\n",
    "        \"Spring\": nx.spring_layout,\n",
    "        \"Shell\": nx.shell_layout,\n",
    "        \"Planar\": nx.planar_layout,\n",
    "        \"Spectral\": nx.spectral_layout\n",
    "    }\n",
    "\n",
    "    # Let the user choose a layout\n",
    "    print(\"Available graph layouts:\")\n",
    "    for i, layout_name in enumerate(layout_options.keys()):\n",
    "        print(f\"{i+1}. {layout_name}\")\n",
    "\n",
    "    while True:\n",
    "        try:\n",
    "            choice = int(input(\"Enter the number of the layout you want to use: \"))\n",
    "            if 1 <= choice <= len(layout_options):\n",
    "                selected_layout_name = list(layout_options.keys())[choice - 1]\n",
    "                layout_function = layout_options[selected_layout_name]\n",
    "                break\n",
    "            else:\n",
    "                print(\"Invalid choice. Please enter a number from the list.\")\n",
    "        except ValueError:\n",
    "            print(\"Invalid input. Please enter a number.\")\n",
    "\n",
    "    # Apply the chosen layout to get the node positions\n",
    "    pos = layout_function(G)\n",
    "\n",
    "    # Increase the size of the nodes\n",
    "    node_size = 1500\n",
    "\n",
    "    # Increase the font size of the labels\n",
    "    font_size = 6\n",
    "\n",
    "    # Draw the nodes with colors based on continent\n",
    "    nx.draw_networkx_nodes(G, pos, node_color=node_colors, node_size=node_size)\n",
    "\n",
    "    # Draw the edges\n",
    "    nx.draw_networkx_edges(G, pos, alpha=0.5)\n",
    "\n",
    "    # Draw the labels (territory names) on the nodes\n",
    "    nx.draw_networkx_labels(G, pos, labels=node_labels, font_size=font_size)\n",
    "\n",
    "    # Create a legend for the continents\n",
    "    handles = [plt.Rectangle((0, 0), 1, 1, color=continent_colors[continent]) for continent in continents]\n",
    "    plt.legend(handles, continents, title=\"Continents\")\n",
    "\n",
    "    # Set the title of the plot\n",
    "    plt.title(f\"Risk Board Graph - {selected_layout_name} Layout\")\n",
    "\n",
    "    # Remove axis ticks and labels for a cleaner look\n",
    "    plt.axis(\"off\")\n",
    "\n",
    "    # Display the plot\n",
    "    plt.show() \n",
    "\n",
    "\n",
    "# Visualize the graph\n",
    "visualize_risk_graph(G)\n",
    "\n",
    "\n",
    "# from Gemini, prompt was copy pasting previous code + ' Create a visualization of the Risk board graph. You can use AI to help you with this. The function below should:\n",
    "\n",
    "# make a plot of the risk graph.\n",
    "# color nodes by continent\n",
    "# allow the user to choose a type of layout. Hint: search networkx documentation for the possible layout. Min 5 layouts should be available.\n",
    "# print the name of each territory on the respective node\n",
    "# make a legend for the graph\n",
    "# have very descriptive comments\n",
    "# increase the size of each node from the default value\n",
    "# increase the font size of label from the default value'z"
   ]
  },
  {
   "cell_type": "markdown",
   "metadata": {},
   "source": [
    "&#9989; **Question 3.4 (26 points)**: Answer the following questions based on the Risk board graph visualization. Each answer should have a minimum of 1-2 sentences and snippet of the code that supports your answer. You must explain what each function in the code snippet does. \n",
    "\n",
    "All answers should be in the same markdown cell. \n",
    "\n",
    "The code snippet should be properly displayed using code markdown. \n",
    "\n",
    "1. Which layout type provides the best visualization of the continent-based clustering in the Risk board graph?\n",
    "    - Explain the rationale behind your choice of layout.\n",
    "2. Do a little research and explain what the Kamada-Kawai layout does? Make sure to cite your sources.\n",
    "3. Which part of the code is used to assign the color of each node based on its continent?\n",
    "4. How did you make the legend? Explain any non-obvious part of the code.\n",
    "5. What colormap did you choose for the continents and how did you import the colormap? \n",
    "6. How did you set the node size and font size in the visualization?\n",
    "7. How did you print the labels for the nodes? "
   ]
  },
  {
   "cell_type": "markdown",
   "metadata": {},
   "source": [
    "1. the spring layout was the best because it grouped together the continents. presumably it is just grouping together nodes that are frequently connected to each other.\n",
    "2. the Kamada-Kawai is a layout that simulates the edges as springs and tries to minimize the distance between nodes. source: https://coursepages2.tuni.fi/mttts17/wp-content/uploads/sites/136/2020/04/drv_2020_lecture13.pdf\n",
    "3. this code creates a dictionary of colors and continents, and then uses the 'continent' attribute of each node to look up what the color should be. it then stores it all using a list comprehention \n",
    "    ```\n",
    "        # Define a color map for the continents\n",
    "        # You can choose your own colors\n",
    "        continent_colors = {\n",
    "            'North America': 'skyblue',\n",
    "            'South America': 'lightcoral',\n",
    "            'Europe': 'lightgreen',\n",
    "            'Africa': 'gold',\n",
    "            'Asia': 'lightsalmon',\n",
    "            'Australia': 'lightcyan'\n",
    "        }\n",
    "    \n",
    "        # Get the color for each node based on its continent\n",
    "        node_colors = [continent_colors[G.nodes[node]['continent']] for node in G.nodes()]\n",
    "    ```\n",
    "4. this code creates a list of plot objects, where each continent has a little box of the color that represents that continent. it then uses the built in legend function to create the final legend.\n",
    "```\n",
    "    # Create a legend for the continents\n",
    "    handles = [plt.Rectangle((0, 0), 1, 1, color=continent_colors[continent]) for continent in continents]\n",
    "    plt.legend(handles, continents, title=\"Continents\")\n",
    "```\n",
    "5. it does't use a colormap, instead it creates a dictionary of continents and color strings recognised by matplotlib\n",
    "```\n",
    "    continent_colors = {\n",
    "        'North America': 'skyblue',\n",
    "        'South America': 'lightcoral',\n",
    "        'Europe': 'lightgreen',\n",
    "        'Africa': 'gold',\n",
    "        'Asia': 'lightsalmon',\n",
    "        'Australia': 'lightcyan'\n",
    "    }\n",
    "```\n",
    "6. it creates a variable called 'font_size' and uses that as the font size parameter of the function that draws the labels\n",
    "```\n",
    "    # Increase the font size of the labels\n",
    "    font_size = 6\n",
    "\n",
    "    \n",
    "\n",
    "    # Draw the labels (territory names) on the nodes\n",
    "    nx.draw_networkx_labels(G, pos, labels=node_labels, font_size=font_size)\n",
    "```\n",
    "7. it creates a dictionary of nodes and their names and then uses that dictionary in the .draw_networkx_labels() function as the labels parameter\n",
    "```\n",
    "   # Get the labels for each node (the territory names)\n",
    "    node_labels = {node: node for node in G.nodes()}\n",
    "\n",
    "    # Draw the labels (territory names) on the nodes\n",
    "    nx.draw_networkx_labels(G, pos, labels=node_labels, font_size=font_size)\n",
    "```"
   ]
  },
  {
   "cell_type": "markdown",
   "metadata": {},
   "source": [
    "---\n",
    "## &#128721; STOP\n",
    "**Pause to commit your changes to your Git repository! (1 points)**\n",
    "\n",
    "Take a moment to save your notebook, commit the changes to your Git repository using the commit message \"**Committing Part 3**\", no need to push the changes to GitHub yet, but you can if you want."
   ]
  },
  {
   "cell_type": "markdown",
   "metadata": {},
   "source": [
    "---\n",
    "## Assignment wrap-up\n",
    "\n",
    "Please fill out the form that appears when you run the code below.  **You must completely fill this out in order to receive credit for the assignment!**"
   ]
  },
  {
   "cell_type": "code",
   "execution_count": 5,
   "metadata": {},
   "outputs": [
    {
     "data": {
      "text/html": [
       "\n",
       "<iframe \n",
       "\tsrc=\"https://forms.office.com/r/mB0YjLYvAA\" \n",
       "\twidth=\"800px\" \n",
       "\theight=\"600px\" \n",
       "\tframeborder=\"0\" \n",
       "\tmarginheight=\"0\" \n",
       "\tmarginwidth=\"0\">\n",
       "\tLoading...\n",
       "</iframe>\n"
      ],
      "text/plain": [
       "<IPython.core.display.HTML object>"
      ]
     },
     "execution_count": 5,
     "metadata": {},
     "output_type": "execute_result"
    }
   ],
   "source": [
    "from IPython.display import HTML\n",
    "HTML(\n",
    "\"\"\"\n",
    "<iframe \n",
    "\tsrc=\"https://forms.office.com/r/mB0YjLYvAA\" \n",
    "\twidth=\"800px\" \n",
    "\theight=\"600px\" \n",
    "\tframeborder=\"0\" \n",
    "\tmarginheight=\"0\" \n",
    "\tmarginwidth=\"0\">\n",
    "\tLoading...\n",
    "</iframe>\n",
    "\"\"\"\n",
    ")"
   ]
  },
  {
   "cell_type": "markdown",
   "metadata": {},
   "source": [
    "### Congratulations, you're done!\n",
    "\n",
    "If you like, you can upload this file to D2L for a record. Nevertheless, **we will grade the copy on GitHub**. \n"
   ]
  },
  {
   "cell_type": "markdown",
   "metadata": {},
   "source": [
    "&#169; Copyright 2025,  Department of Computational Mathematics, Science and Engineering at Michigan State University"
   ]
  }
 ],
 "metadata": {
  "kernelspec": {
   "display_name": "Python 3.11 (default)",
   "language": "python",
   "name": "python3"
  },
  "language_info": {
   "codemirror_mode": {
    "name": "ipython",
    "version": 3
   },
   "file_extension": ".py",
   "mimetype": "text/x-python",
   "name": "python",
   "nbconvert_exporter": "python",
   "pygments_lexer": "ipython3",
   "version": "3.11.11"
  }
 },
 "nbformat": 4,
 "nbformat_minor": 4
}
